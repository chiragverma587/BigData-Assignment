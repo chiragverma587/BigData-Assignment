{
 "cells": [
  {
   "cell_type": "code",
   "execution_count": null,
   "id": "950d28be",
   "metadata": {},
   "outputs": [],
   "source": [
    "DAY-2(SQL)\n",
    "\n",
    "1. Write an SQL query to retrieve the names and email addresses of all employees from a table named \"Employees\".\n",
    "Ans: SELECT name, email FROM Employees;\n",
    "\n",
    "2. Write an SQL query to filter records from a table named \"Customers\" where the \"City\" column is 'New York'.\n",
    "Ans: SELECT * FROM Customers WHERE City = 'New York';\n",
    "\n",
    "3. Write an SQL query to sort records in descending order based on the \"DateOfBirth\" column in a table named \"Users\".\n",
    "Ans: SELECT * FROM Users ORDER BY DateOfBirth DESC;\n",
    "\n",
    "4. Write an SQL query to sort records in ascending order based on the \"RegistrationDate\" column in a table named \"Users\".\n",
    "Ans: SELECT * FROM Users ORDER BY RegistrationDate ASC;\n",
    "\n",
    "5. Write an SQL query to find the employee with the highest salary from a table named \"Employees\" and display their name, position, and salary.\n",
    "Ans: SELECT name, position, salary\n",
    "     FROM Employees WHERE salary = (SELECT MAX(salary) FROM Employees);\n",
    "\n",
    "6. Write an SQL query to retrieve records from a table named \"Customers\" where the \"Phone\" column matches the pattern '+1-XXX-XXX-XXXX'.\n",
    "Ans: SELECT * FROM Customers WHERE Phone LIKE '+1-XXX-XXX-XXXX';\n",
    "\n",
    "7. Write an SQL query to retrieve the top 5 customers with the highest total purchase amount from a table named \"Orders\" and display their names and total purchase amounts.\n",
    "Ans: SELECT customer_name, SUM(purchase_amount) AS total_purchase_amount\n",
    "FROM Orders\n",
    "GROUP BY customer_name\n",
    "ORDER BY total_purchase_amount DESC\n",
    "LIMIT 5;\n",
    "\n",
    "\n",
    "8. Write an SQL query to calculate the percentage of sales for each product category in a table named \"Sales\" and display the category name, total sales amount, and the percentage of total sales.\n",
    "\n",
    "Ans: SELECT ProductCategory,\n",
    "  SUM(SalesAmount) AS TotalSalesAmount,\n",
    "  (SUM(SalesAmount) / (SELECT SUM(SalesAmount) FROM Sales)) * 100 AS PercentageOfTotalSales\n",
    "FROM\n",
    "  Sales\n",
    "GROUP BY\n",
    "  ProductCategory;\n",
    "\n",
    "\n",
    "\n",
    "9. Write an SQL query to find the customers who have made the highest total purchases across all years from a table named \"Orders\" and display their names, email addresses, and the total purchase amount.\n",
    "Ans: SELECT CustomerName, EmailAddress, SUM(PurchaseAmount) AS TotalPurchaseAmount FROM Orders GROUP BY CustomerName, EmailAddress HAVING SUM(PurchaseAmount) = (SELECT MAX(TotalPurchaseAmount) FROM \n",
    "(SELECT  CustomerName, EmailAddress, SUM(PurchaseAmount) AS TotalPurchaseAmount FROM Orders GROUP BY CustomerName,\n",
    "         EmailAddress) AS SubQuery);\n",
    "\n",
    "\n",
    "\n",
    "\n",
    "\n"
   ]
  }
 ],
 "metadata": {
  "kernelspec": {
   "display_name": "Python 3 (ipykernel)",
   "language": "python",
   "name": "python3"
  },
  "language_info": {
   "codemirror_mode": {
    "name": "ipython",
    "version": 3
   },
   "file_extension": ".py",
   "mimetype": "text/x-python",
   "name": "python",
   "nbconvert_exporter": "python",
   "pygments_lexer": "ipython3",
   "version": "3.9.12"
  }
 },
 "nbformat": 4,
 "nbformat_minor": 5
}
