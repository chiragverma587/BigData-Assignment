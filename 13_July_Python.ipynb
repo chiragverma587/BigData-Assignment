{
 "cells": [
  {
   "cell_type": "code",
   "execution_count": 2,
   "id": "5f5d150f",
   "metadata": {},
   "outputs": [],
   "source": [
    "def isAnagram(s1, s2):\n",
    "    # Convert both strings to lowercase and remove whitespace\n",
    "    s1 = s1.lower().replace(\" \", \"\")\n",
    "    s2 = s2.lower().replace(\" \", \"\")\n",
    "\n",
    "    # Check if the sorted versions of the strings are equal\n",
    "    return sorted(s1) == sorted(s2)"
   ]
  },
  {
   "cell_type": "code",
   "execution_count": 3,
   "id": "61bc7d3f",
   "metadata": {},
   "outputs": [],
   "source": [
    "def find_max_min(dictionary):\n",
    "    if len(dictionary) == 0:\n",
    "        return None, None\n",
    "\n",
    "    max_value = max(dictionary, key=dictionary.get)\n",
    "    min_value = min(dictionary, key=dictionary.get)\n",
    "\n",
    "    return dictionary[max_value], dictionary[min_value]"
   ]
  },
  {
   "cell_type": "code",
   "execution_count": 4,
   "id": "2839f100",
   "metadata": {},
   "outputs": [],
   "source": [
    "def calculate_average(numbers):\n",
    "    if len(numbers) == 0:\n",
    "        return None\n",
    "\n",
    "    total_sum = sum(numbers)\n",
    "    average = total_sum / len(numbers)\n",
    "\n",
    "    return average"
   ]
  },
  {
   "cell_type": "code",
   "execution_count": 5,
   "id": "08a5afb0",
   "metadata": {},
   "outputs": [],
   "source": [
    "def remove_vowels(string):\n",
    "    vowels = 'aeiouAEIOU'\n",
    "    result = ''\n",
    "    \n",
    "    for char in string:\n",
    "        if char not in vowels:\n",
    "            result += char\n",
    "    \n",
    "    return result"
   ]
  },
  {
   "cell_type": "code",
   "execution_count": 6,
   "id": "28fa20c8",
   "metadata": {},
   "outputs": [],
   "source": [
    "def factorial(n):\n",
    "    # Base case: factorial of 0 or 1 is 1\n",
    "    if n == 0 or n == 1:\n",
    "        return 1\n",
    "\n",
    "    # Recursive case: multiply n by the factorial of (n-1)\n",
    "    return n * factorial(n - 1)"
   ]
  },
  {
   "cell_type": "code",
   "execution_count": 7,
   "id": "5b8a6b88",
   "metadata": {},
   "outputs": [],
   "source": [
    "def merge_sort_merge(left, right):\n",
    "    merged = []\n",
    "    i, j = 0, 0\n",
    "\n",
    "    while i < len(left) and j < len(right):\n",
    "        if left[i] <= right[j]:\n",
    "            merged.append(left[i])\n",
    "            i += 1\n",
    "        else:\n",
    "            merged.append(right[j])\n",
    "            j += 1\n",
    "\n",
    "    while i < len(left):\n",
    "        merged.append(left[i])\n",
    "        i += 1\n",
    "\n",
    "    while j < len(right):\n",
    "        merged.append(right[j])\n",
    "        j += 1\n",
    "\n",
    "    return merged"
   ]
  },
  {
   "cell_type": "code",
   "execution_count": 8,
   "id": "d8a17c13",
   "metadata": {},
   "outputs": [],
   "source": [
    "def gcd(a, b):\n",
    "    while b != 0:\n",
    "        a, b = b, a % b"
   ]
  },
  {
   "cell_type": "code",
   "execution_count": 9,
   "id": "a2f54f9b",
   "metadata": {},
   "outputs": [],
   "source": [
    "def find_second_largest(nums):\n",
    "    if len(nums) < 2:\n",
    "        return None\n",
    "\n",
    "    largest = float('-inf')\n",
    "    second_largest = float('-inf')\n",
    "\n",
    "    for num in nums:\n",
    "        if num > largest:\n",
    "            second_largest = largest\n",
    "            largest = num\n",
    "        elif num > second_largest and num != largest:\n",
    "            second_largest = num\n",
    "\n",
    "    if second_largest == float('-inf'):\n",
    "        return None\n",
    "    else:\n",
    "        return second_largest"
   ]
  },
  {
   "cell_type": "code",
   "execution_count": 10,
   "id": "30c95e44",
   "metadata": {},
   "outputs": [],
   "source": [
    "def longest_common_subsequence(text1, text2):\n",
    "    m, n = len(text1), len(text2)\n",
    "\n",
    "    # Create a 2D matrix to store the lengths of LCSs\n",
    "    dp = [[0] * (n + 1) for _ in range(m + 1)]\n",
    "\n",
    "    # Fill in the matrix\n",
    "    for i in range(1, m + 1):\n",
    "        for j in range(1, n + 1):\n",
    "            if text1[i - 1] == text2[j - 1]:\n",
    "                dp[i][j] = dp[i - 1][j - 1] + 1\n",
    "            else:\n",
    "                dp[i][j] = max(dp[i - 1][j], dp[i][j - 1])\n",
    "\n",
    "    # Traverse the matrix to reconstruct the LCS\n",
    "    lcs = ''\n",
    "    i, j = m, n\n",
    "    while i > 0 and j > 0:\n",
    "        if text1[i - 1] == text2[j - 1]:\n",
    "            lcs = text1[i - 1] + lcs\n",
    "            i -= 1\n",
    "            j -= 1\n",
    "        elif dp[i - 1][j] > dp[i][j - 1]:\n",
    "            i -= 1\n",
    "        else:\n",
    "            j -= 1\n",
    "\n",
    "    return lcs"
   ]
  },
  {
   "cell_type": "code",
   "execution_count": null,
   "id": "35600703",
   "metadata": {},
   "outputs": [],
   "source": []
  }
 ],
 "metadata": {
  "kernelspec": {
   "display_name": "Python 3 (ipykernel)",
   "language": "python",
   "name": "python3"
  },
  "language_info": {
   "codemirror_mode": {
    "name": "ipython",
    "version": 3
   },
   "file_extension": ".py",
   "mimetype": "text/x-python",
   "name": "python",
   "nbconvert_exporter": "python",
   "pygments_lexer": "ipython3",
   "version": "3.9.12"
  }
 },
 "nbformat": 4,
 "nbformat_minor": 5
}
