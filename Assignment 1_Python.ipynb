{
 "cells": [
  {
   "cell_type": "code",
   "execution_count": null,
   "id": "49200c09",
   "metadata": {},
   "outputs": [],
   "source": [
    "# 1. Write a Python program to check if a given string is an anagram."
   ]
  },
  {
   "cell_type": "code",
   "execution_count": 1,
   "id": "5f5d150f",
   "metadata": {},
   "outputs": [
    {
     "name": "stdout",
     "output_type": "stream",
     "text": [
      "True\n"
     ]
    }
   ],
   "source": [
    "def isAnagram(s1, s2):\n",
    "    # Convert both strings to lowercase and remove whitespace\n",
    "    s1 = s1.lower().replace(\" \", \"\")\n",
    "    s2 = s2.lower().replace(\" \", \"\")\n",
    "\n",
    "    # Check if the sorted versions of the strings are equal\n",
    "    return sorted(s1) == sorted(s2)\n",
    "print(isAnagram('python','ythonp')) "
   ]
  },
  {
   "cell_type": "code",
   "execution_count": null,
   "id": "f536bdc8",
   "metadata": {},
   "outputs": [],
   "source": [
    "# 2. Write a Python program to find the maximum and minimum values in a\n",
    "# dictionary."
   ]
  },
  {
   "cell_type": "code",
   "execution_count": 2,
   "id": "61bc7d3f",
   "metadata": {},
   "outputs": [
    {
     "name": "stdout",
     "output_type": "stream",
     "text": [
      "(5874, 500)\n"
     ]
    }
   ],
   "source": [
    "def find_max_min(dictionary):\n",
    "    if len(dictionary) == 0:\n",
    "        return None, None\n",
    "\n",
    "    max_value = max(dictionary, key=dictionary.get)\n",
    "    min_value = min(dictionary, key=dictionary.get)\n",
    "\n",
    "    return dictionary[max_value], dictionary[min_value]\n",
    "my_dict = {'x':500, 'y':5874, 'z': 560}\n",
    "print(find_max_min(my_dict))"
   ]
  },
  {
   "cell_type": "code",
   "execution_count": null,
   "id": "20a9a4f5",
   "metadata": {},
   "outputs": [],
   "source": [
    "# 3. Write a Python program to find the average of a list of numbers."
   ]
  },
  {
   "cell_type": "code",
   "execution_count": 3,
   "id": "2839f100",
   "metadata": {},
   "outputs": [
    {
     "name": "stdout",
     "output_type": "stream",
     "text": [
      "34.5\n"
     ]
    }
   ],
   "source": [
    "def calculate_average(numbers):\n",
    "    if len(numbers) == 0:\n",
    "        return None\n",
    "\n",
    "    total_sum = sum(numbers)\n",
    "    average = total_sum / len(numbers)\n",
    "\n",
    "    return average\n",
    "lst = [24, 19, 35, 46, 75, 29, 30, 18] \n",
    "print(calculate_average(lst))"
   ]
  },
  {
   "cell_type": "code",
   "execution_count": null,
   "id": "82cf0f8a",
   "metadata": {},
   "outputs": [],
   "source": [
    "# 4. Write a Python program to remove all vowels from a string."
   ]
  },
  {
   "cell_type": "code",
   "execution_count": 4,
   "id": "08a5afb0",
   "metadata": {},
   "outputs": [
    {
     "name": "stdout",
     "output_type": "stream",
     "text": [
      "nrn\n"
     ]
    }
   ],
   "source": [
    "def remove_vowels(string):\n",
    "    vowels = 'aeiouAEIOU'\n",
    "    result = ''\n",
    "    \n",
    "    for char in string:\n",
    "        if char not in vowels:\n",
    "            result += char\n",
    "    \n",
    "    return result\n",
    "print(remove_vowels(\"ineuron\"))"
   ]
  },
  {
   "cell_type": "code",
   "execution_count": null,
   "id": "1b94302a",
   "metadata": {},
   "outputs": [],
   "source": [
    "# 5. Write a Python function to calculate the factorial of a number using recursion."
   ]
  },
  {
   "cell_type": "code",
   "execution_count": 5,
   "id": "28fa20c8",
   "metadata": {},
   "outputs": [
    {
     "name": "stdout",
     "output_type": "stream",
     "text": [
      "120\n"
     ]
    }
   ],
   "source": [
    "def factorial(n):\n",
    "    # Base case: factorial of 0 or 1 is 1\n",
    "    if n == 0 or n == 1:\n",
    "        return 1\n",
    "\n",
    "    # Recursive case: multiply n by the factorial of (n-1)\n",
    "    return n * factorial(n - 1)\n",
    "print(factorial(5))"
   ]
  },
  {
   "cell_type": "code",
   "execution_count": null,
   "id": "d2d35658",
   "metadata": {},
   "outputs": [],
   "source": [
    "# 6. Write a Python program to merge two unsorted lists into a single sorted list\n",
    "# using the merge sort algorithm."
   ]
  },
  {
   "cell_type": "code",
   "execution_count": 8,
   "id": "5b8a6b88",
   "metadata": {},
   "outputs": [
    {
     "name": "stdout",
     "output_type": "stream",
     "text": [
      "[0, 1, 2, 2, 3, 4, 4, 5, 5, 6, 7, 7, 8, 8, 9, 9]\n"
     ]
    }
   ],
   "source": [
    "def merge_sort_merge(left, right):\n",
    "    merged = []\n",
    "    i, j = 0, 0\n",
    "\n",
    "    while i < len(left) and j < len(right):\n",
    "        if left[i] <= right[j]:\n",
    "            merged.append(left[i])\n",
    "            i += 1\n",
    "        else:\n",
    "            merged.append(right[j])\n",
    "            j += 1\n",
    "\n",
    "    while i < len(left):\n",
    "        merged.append(left[i])\n",
    "        i += 1\n",
    "\n",
    "    while j < len(right):\n",
    "        merged.append(right[j])\n",
    "        j += 1\n",
    "    merged.sort()\n",
    "    return merged\n",
    "ls1=[2,7,5,8,4,9,0]\n",
    "ls2=[1,4,7,2,5,8,3,6,9]\n",
    "print(merge_sort_merge(ls1,ls2))"
   ]
  },
  {
   "cell_type": "code",
   "execution_count": null,
   "id": "d39c64bc",
   "metadata": {},
   "outputs": [],
   "source": [
    "# 7. Write a Python program to find the GCD (Greatest Common Divisor) of two\n",
    "# numbers."
   ]
  },
  {
   "cell_type": "code",
   "execution_count": 12,
   "id": "d8a17c13",
   "metadata": {},
   "outputs": [
    {
     "name": "stdout",
     "output_type": "stream",
     "text": [
      "12\n"
     ]
    }
   ],
   "source": [
    "def gcd(a, b):\n",
    "    while b != 0:\n",
    "        a, b = b, a % b\n",
    "    print(a)\n",
    "gcd(60, 48)"
   ]
  },
  {
   "cell_type": "code",
   "execution_count": null,
   "id": "405dedc3",
   "metadata": {},
   "outputs": [],
   "source": [
    "# 8. Write a Python program to find the second-largest element in a list."
   ]
  },
  {
   "cell_type": "code",
   "execution_count": 13,
   "id": "a2f54f9b",
   "metadata": {},
   "outputs": [
    {
     "name": "stdout",
     "output_type": "stream",
     "text": [
      "8\n"
     ]
    }
   ],
   "source": [
    "def find_second_largest(nums):\n",
    "    if len(nums) < 2:\n",
    "        return None\n",
    "\n",
    "    largest = float('-inf')\n",
    "    second_largest = float('-inf')\n",
    "\n",
    "    for num in nums:\n",
    "        if num > largest:\n",
    "            second_largest = largest\n",
    "            largest = num\n",
    "        elif num > second_largest and num != largest:\n",
    "            second_largest = num\n",
    "\n",
    "    if second_largest == float('-inf'):\n",
    "        return None\n",
    "    else:\n",
    "        return second_largest\n",
    "ls = [1,4,7,2,5,8,3,6,9]\n",
    "print(find_second_largest(ls))"
   ]
  },
  {
   "cell_type": "code",
   "execution_count": null,
   "id": "9974e892",
   "metadata": {},
   "outputs": [],
   "source": [
    "# 9. Write a Python program to find the longest common subsequence between two\n",
    "# strings using dynamic programming."
   ]
  },
  {
   "cell_type": "code",
   "execution_count": 14,
   "id": "30c95e44",
   "metadata": {},
   "outputs": [
    {
     "name": "stdout",
     "output_type": "stream",
     "text": [
      "GTAB\n"
     ]
    }
   ],
   "source": [
    "def longest_common_subsequence(text1, text2):\n",
    "    m, n = len(text1), len(text2)\n",
    "\n",
    "    # Create a 2D matrix to store the lengths of LCSs\n",
    "    dp = [[0] * (n + 1) for _ in range(m + 1)]\n",
    "\n",
    "    # Fill in the matrix\n",
    "    for i in range(1, m + 1):\n",
    "        for j in range(1, n + 1):\n",
    "            if text1[i - 1] == text2[j - 1]:\n",
    "                dp[i][j] = dp[i - 1][j - 1] + 1\n",
    "            else:\n",
    "                dp[i][j] = max(dp[i - 1][j], dp[i][j - 1])\n",
    "\n",
    "    # Traverse the matrix to reconstruct the LCS\n",
    "    lcs = ''\n",
    "    i, j = m, n\n",
    "    while i > 0 and j > 0:\n",
    "        if text1[i - 1] == text2[j - 1]:\n",
    "            lcs = text1[i - 1] + lcs\n",
    "            i -= 1\n",
    "            j -= 1\n",
    "        elif dp[i - 1][j] > dp[i][j - 1]:\n",
    "            i -= 1\n",
    "        else:\n",
    "            j -= 1\n",
    "\n",
    "    return lcs\n",
    "X = \"AGGTAB\"\n",
    "Y = \"GXTXAYB\"\n",
    "print(longest_common_subsequence(X,Y))"
   ]
  },
  {
   "cell_type": "code",
   "execution_count": null,
   "id": "35600703",
   "metadata": {},
   "outputs": [],
   "source": []
  }
 ],
 "metadata": {
  "kernelspec": {
   "display_name": "Python 3 (ipykernel)",
   "language": "python",
   "name": "python3"
  },
  "language_info": {
   "codemirror_mode": {
    "name": "ipython",
    "version": 3
   },
   "file_extension": ".py",
   "mimetype": "text/x-python",
   "name": "python",
   "nbconvert_exporter": "python",
   "pygments_lexer": "ipython3",
   "version": "3.9.12"
  }
 },
 "nbformat": 4,
 "nbformat_minor": 5
}
